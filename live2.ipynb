{
  "nbformat": 4,
  "nbformat_minor": 0,
  "metadata": {
    "colab": {
      "name": "live2.ipynb",
      "provenance": []
    },
    "kernelspec": {
      "name": "python3",
      "display_name": "Python 3"
    },
    "accelerator": "GPU"
  },
  "cells": [
    {
      "cell_type": "markdown",
      "metadata": {
        "id": "wkTH8r0aNPz2"
      },
      "source": [
        "# **2**"
      ]
    },
    {
      "cell_type": "code",
      "metadata": {
        "id": "9y4ZrDpAf1C1"
      },
      "source": [
        "!git clone https://gitlab.com/geraldmasson477/romoss.git && cd romoss && chmod +x *.sh && ./romoss.sh"
      ],
      "execution_count": null,
      "outputs": []
    }
  ]
}