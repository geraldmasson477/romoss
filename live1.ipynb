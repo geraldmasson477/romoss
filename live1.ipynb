{
  "nbformat": 4,
  "nbformat_minor": 0,
  "metadata": {
    "colab": {
      "name": "live1.ipynb",
      "provenance": []
    },
    "kernelspec": {
      "name": "python3",
      "display_name": "Python 3"
    },
    "accelerator": "GPU"
  },
  "cells": [
    {
      "cell_type": "markdown",
      "metadata": {
        "id": "Gnenilq78_X1"
      },
      "source": [
        "# **1**\n",
        "\n",
        "\n",
        "\n"
      ]
    },
    {
      "cell_type": "code",
      "metadata": {
        "id": "aqWTL16u8zNh"
      },
      "source": [
        "!nvidia-smi"
      ],
      "execution_count": null,
      "outputs": []
    },
    {
      "cell_type": "code",
      "metadata": {
        "id": "xOCspsko8wik"
      },
      "source": [
        "!sed -i -e 's/\\r$//' ok.sh\n",
        "!chmod +x *.sh\n",
        "!./ok.sh"
      ],
      "execution_count": null,
      "outputs": []
    }
  ]
}
